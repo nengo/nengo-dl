{
 "cells": [
  {
   "cell_type": "markdown",
   "metadata": {},
   "source": [
    "# Legendre Memory Units in NengoDL\n",
    "\n",
    "[![Open In\n",
    "Colab](https://colab.research.google.com/assets/colab-badge.svg)](https://colab.research.google.com/github/nengo/nengo-dl/blob/master/docs/examples/lmu.ipynb)\n",
    "\n",
    "Legendre Memory Units (LMUs) are a novel memory cell for recurrent neural networks,\n",
    "described in [Voelker, Kajić, and Eliasmith (NeurIPS\n",
    "2019)](https://papers.nips.cc/paper/9689-legendre-memory-units-continuous-time-representation-in-recurrent-neural-networks.pdf).\n",
    "We will not go into the underlying details of these methods here; for our purposes we\n",
    "can think of this as an alternative to something like LSTMs. LMUs have achieved state of\n",
    "the art performance on complex RNN tasks, which we will demonstrate here. See [the\n",
    "paper](https://papers.nips.cc/paper/9689-legendre-memory-units-continuous-time-representation-in-recurrent-neural-networks.pdf)\n",
    "for all the details!\n",
    "\n",
    "In this example we will show how an LMU can be built in NengoDL, and used to solve the\n",
    "Permuted Sequential MNIST (psMNIST) task.\n",
    "\n",
    "First we need to set up the data for this task. We begin with the standard MNIST dataset\n",
    "of handwritten digits:"
   ]
  },
  {
   "cell_type": "code",
   "execution_count": 1,
   "metadata": {
    "execution": {
     "iopub.execute_input": "2023-02-08T21:41:52.650171Z",
     "iopub.status.busy": "2023-02-08T21:41:52.649674Z",
     "iopub.status.idle": "2023-02-08T21:42:02.831075Z",
     "shell.execute_reply": "2023-02-08T21:42:02.830287Z"
    }
   },
   "outputs": [
    {
     "data": {
      "image/png": "[encoded data removed]",
      "text/plain": [
       "<Figure size 640x480 with 1 Axes>"
      ]
     },
     "metadata": {},
     "output_type": "display_data"
    }
   ],
   "source": [
    "%matplotlib inline\n",
    "\n",
    "from urllib.request import urlretrieve\n",
    "\n",
    "import matplotlib.pyplot as plt\n",
    "import nengo\n",
    "from nengo.utils.filter_design import cont2discrete\n",
    "import numpy as np\n",
    "import tensorflow as tf\n",
    "\n",
    "import nengo_dl\n",
    "\n",
    "# set seed to ensure this example is reproducible\n",
    "seed = 0\n",
    "tf.random.set_seed(seed)\n",
    "np.random.seed(seed)\n",
    "rng = np.random.RandomState(seed)\n",
    "\n",
    "# load mnist dataset\n",
    "(train_images, train_labels), (\n",
    "    test_images,\n",
    "    test_labels,\n",
    ") = tf.keras.datasets.mnist.load_data()\n",
    "\n",
    "# change inputs to 0--1 range\n",
    "train_images = train_images / 255\n",
    "test_images = test_images / 255\n",
    "\n",
    "# reshape the labels to rank 3 (as expected in Nengo)\n",
    "train_labels = train_labels[:, None, None]\n",
    "test_labels = test_labels[:, None, None]\n",
    "\n",
    "plt.figure()\n",
    "plt.imshow(np.reshape(train_images[0], (28, 28)), cmap=\"gray\")\n",
    "plt.axis(\"off\")\n",
    "plt.title(str(train_labels[0, 0, 0]))\n",
    "plt.show()"
   ]
  },
  {
   "cell_type": "markdown",
   "metadata": {},
   "source": [
    "\"Sequential\" MNIST refers to taking the pixels of the images and flattening them into a\n",
    "sequence of single pixels. Each pixel will be presented to the network one at a time,\n",
    "and the goal of the network is to classify the sequence according to which digit it\n",
    "represents."
   ]
  },
  {
   "cell_type": "code",
   "execution_count": 2,
   "metadata": {
    "execution": {
     "iopub.execute_input": "2023-02-08T21:42:02.834454Z",
     "iopub.status.busy": "2023-02-08T21:42:02.833855Z",
     "iopub.status.idle": "2023-02-08T21:42:02.885627Z",
     "shell.execute_reply": "2023-02-08T21:42:02.884951Z"
    }
   },
   "outputs": [
    {
     "data": {
      "image/png": "[encoded data removed]",
      "text/plain": [
       "<Figure size 640x480 with 1 Axes>"
      ]
     },
     "metadata": {},
     "output_type": "display_data"
    }
   ],
   "source": [
    "# flatten images into sequences\n",
    "train_images = train_images.reshape((train_images.shape[0], -1, 1))\n",
    "test_images = test_images.reshape((test_images.shape[0], -1, 1))\n",
    "\n",
    "# we'll display the sequence in 8 rows just so that it fits better on the screen\n",
    "plt.figure()\n",
    "plt.imshow(train_images[0].reshape(8, -1), cmap=\"gray\")\n",
    "plt.axis(\"off\")\n",
    "plt.title(str(train_labels[0, 0, 0]))\n",
    "plt.show()"
   ]
  },
  {
   "cell_type": "markdown",
   "metadata": {},
   "source": [
    "As we can see, after flattening the image there is still a decent amount of structure\n",
    "remaining. \"Permuted\" sequential MNIST makes the task more difficult by applying a fixed\n",
    "permutation to all of the image sequences. This ensures that the information contained\n",
    "in the image is distributed evenly throughout the sequence, so the RNN really does need\n",
    "to process the whole length of the input sequence."
   ]
  },
  {
   "cell_type": "code",
   "execution_count": 3,
   "metadata": {
    "execution": {
     "iopub.execute_input": "2023-02-08T21:42:02.888793Z",
     "iopub.status.busy": "2023-02-08T21:42:02.888396Z",
     "iopub.status.idle": "2023-02-08T21:42:03.666143Z",
     "shell.execute_reply": "2023-02-08T21:42:03.665469Z"
    }
   },
   "outputs": [
    {
     "data": {
      "image/png": "[encoded data removed]",
      "text/plain": [
       "<Figure size 640x480 with 1 Axes>"
      ]
     },
     "metadata": {},
     "output_type": "display_data"
    }
   ],
   "source": [
    "# apply permutation\n",
    "perm = rng.permutation(train_images.shape[1])\n",
    "train_images = train_images[:, perm]\n",
    "test_images = test_images[:, perm]\n",
    "\n",
    "plt.figure()\n",
    "plt.imshow(train_images[0].reshape(8, -1), cmap=\"gray\")\n",
    "plt.axis(\"off\")\n",
    "plt.title(str(train_labels[0, 0, 0]))\n",
    "plt.show()"
   ]
  },
  {
   "cell_type": "markdown",
   "metadata": {},
   "source": [
    "Next we define the LMU cell.  This is a modified version of the implementation from\n",
    "[KerasLMU](https://www.nengo.ai/keras-lmu/); see the documentation there for more\n",
    "details. A single LMU cell is\n",
    "implementing this computational graph:\n",
    "\n",
    "![Computational graph](https://i.imgur.com/IJGUVg6.png)"
   ]
  },
  {
   "cell_type": "code",
   "execution_count": 4,
   "metadata": {
    "execution": {
     "iopub.execute_input": "2023-02-08T21:42:03.668954Z",
     "iopub.status.busy": "2023-02-08T21:42:03.668470Z",
     "iopub.status.idle": "2023-02-08T21:42:03.677836Z",
     "shell.execute_reply": "2023-02-08T21:42:03.677212Z"
    }
   },
   "outputs": [],
   "source": [
    "class LMUCell(nengo.Network):\n",
    "    def __init__(self, units, order, theta, input_d, **kwargs):\n",
    "        super().__init__(**kwargs)\n",
    "\n",
    "        # compute the A and B matrices according to the LMU's mathematical derivation\n",
    "        # (see the paper for details)\n",
    "        Q = np.arange(order, dtype=np.float64)\n",
    "        R = (2 * Q + 1)[:, None] / theta\n",
    "        j, i = np.meshgrid(Q, Q)\n",
    "\n",
    "        A = np.where(i < j, -1, (-1.0) ** (i - j + 1)) * R\n",
    "        B = (-1.0) ** Q[:, None] * R\n",
    "        C = np.ones((1, order))\n",
    "        D = np.zeros((1,))\n",
    "\n",
    "        A, B, _, _, _ = cont2discrete((A, B, C, D), dt=1.0, method=\"zoh\")\n",
    "\n",
    "        with self:\n",
    "            nengo_dl.configure_settings(trainable=None)\n",
    "\n",
    "            # create objects corresponding to the x/u/m/h variables in the above diagram\n",
    "            self.x = nengo.Node(size_in=input_d)\n",
    "            self.u = nengo.Node(size_in=1)\n",
    "            self.m = nengo.Node(size_in=order)\n",
    "            self.h = nengo_dl.TensorNode(tf.nn.tanh, shape_in=(units,), pass_time=False)\n",
    "\n",
    "            # compute u_t from the above diagram. we have removed e_h and e_m as they\n",
    "            # are not needed in this task.\n",
    "            nengo.Connection(\n",
    "                self.x, self.u, transform=np.ones((1, input_d)), synapse=None\n",
    "            )\n",
    "\n",
    "            # compute m_t\n",
    "            # in this implementation we'll make A and B non-trainable, but they\n",
    "            # could also be optimized in the same way as the other parameters.\n",
    "            # note that setting synapse=0 (versus synapse=None) adds a one-timestep\n",
    "            # delay, so we can think of any connections with synapse=0 as representing\n",
    "            # value_{t-1}.\n",
    "            conn_A = nengo.Connection(self.m, self.m, transform=A, synapse=0)\n",
    "            self.config[conn_A].trainable = False\n",
    "            conn_B = nengo.Connection(self.u, self.m, transform=B, synapse=None)\n",
    "            self.config[conn_B].trainable = False\n",
    "\n",
    "            # compute h_t\n",
    "            nengo.Connection(\n",
    "                self.x, self.h, transform=nengo_dl.dists.Glorot(), synapse=None\n",
    "            )\n",
    "            nengo.Connection(\n",
    "                self.h, self.h, transform=nengo_dl.dists.Glorot(), synapse=0\n",
    "            )\n",
    "            nengo.Connection(\n",
    "                self.m,\n",
    "                self.h,\n",
    "                transform=nengo_dl.dists.Glorot(),\n",
    "                synapse=None,\n",
    "            )"
   ]
  },
  {
   "cell_type": "markdown",
   "metadata": {},
   "source": [
    "And then we construct a simple network consisting of an input node, a single LMU cell,\n",
    "and a dense linear readout. It is also possible to chain multiple LMU cells together,\n",
    "but that is not necessary in this task."
   ]
  },
  {
   "cell_type": "code",
   "execution_count": 5,
   "metadata": {
    "execution": {
     "iopub.execute_input": "2023-02-08T21:42:03.680573Z",
     "iopub.status.busy": "2023-02-08T21:42:03.680185Z",
     "iopub.status.idle": "2023-02-08T21:42:09.510579Z",
     "shell.execute_reply": "2023-02-08T21:42:09.509832Z"
    }
   },
   "outputs": [],
   "source": [
    "with nengo.Network(seed=seed) as net:\n",
    "    # remove some unnecessary features to speed up the training\n",
    "    nengo_dl.configure_settings(\n",
    "        trainable=None,\n",
    "        stateful=False,\n",
    "        keep_history=False,\n",
    "    )\n",
    "\n",
    "    # input node\n",
    "    inp = nengo.Node(np.zeros(train_images.shape[-1]))\n",
    "\n",
    "    # lmu cell\n",
    "    lmu = LMUCell(\n",
    "        units=212,\n",
    "        order=256,\n",
    "        theta=train_images.shape[1],\n",
    "        input_d=train_images.shape[-1],\n",
    "    )\n",
    "    conn = nengo.Connection(inp, lmu.x, synapse=None)\n",
    "    net.config[conn].trainable = False\n",
    "\n",
    "    # dense linear readout\n",
    "    out = nengo.Node(size_in=10)\n",
    "    nengo.Connection(lmu.h, out, transform=nengo_dl.dists.Glorot(), synapse=None)\n",
    "\n",
    "    # record output. note that we set keep_history=False above, so this will\n",
    "    # only record the output on the last timestep (which is all we need\n",
    "    # on this task)\n",
    "    p = nengo.Probe(out)"
   ]
  },
  {
   "cell_type": "markdown",
   "metadata": {},
   "source": [
    "And now we can train the model. To save time in this example we will download some\n",
    "pretrained weights, but you can set `do_training=True` below to run the training\n",
    "yourself.  Note that even with `do_training=True` we're only training for 10 epochs,\n",
    "which is dramatically less than many other solutions to this task.  We could train for\n",
    "longer if we wanted to really fine-tune performance."
   ]
  },
  {
   "cell_type": "code",
   "execution_count": 6,
   "metadata": {
    "execution": {
     "iopub.execute_input": "2023-02-08T21:42:09.514171Z",
     "iopub.status.busy": "2023-02-08T21:42:09.513741Z",
     "iopub.status.idle": "2023-02-08T21:43:28.774008Z",
     "shell.execute_reply": "2023-02-08T21:43:28.773269Z"
    }
   },
   "outputs": [
    {
     "name": "stdout",
     "output_type": "stream",
     "text": [
      "\r",
      "|                     Building network (0%)                    | ETA:  --:--:--"
     ]
    },
    {
     "name": "stdout",
     "output_type": "stream",
     "text": [
      "\r",
      "Build finished in 0:00:00                                                      "
     ]
    },
    {
     "name": "stdout",
     "output_type": "stream",
     "text": [
      "\n"
     ]
    },
    {
     "name": "stdout",
     "output_type": "stream",
     "text": [
      "\r",
      "|#                         Optimizing graph                           | 0:00:00"
     ]
    },
    {
     "name": "stdout",
     "output_type": "stream",
     "text": [
      "\r",
      "|#             Optimizing graph: operator simplificaton               | 0:00:00"
     ]
    },
    {
     "name": "stdout",
     "output_type": "stream",
     "text": [
      "\r",
      "Optimizing graph: operator simplificaton finished in 0:00:00                   "
     ]
    },
    {
     "name": "stdout",
     "output_type": "stream",
     "text": [
      "\r"
     ]
    },
    {
     "name": "stdout",
     "output_type": "stream",
     "text": [
      "\r",
      "|#                Optimizing graph: merging operators                 | 0:00:00"
     ]
    },
    {
     "name": "stdout",
     "output_type": "stream",
     "text": [
      "\r",
      "Optimizing graph: merging operators finished in 0:00:00                        "
     ]
    },
    {
     "name": "stdout",
     "output_type": "stream",
     "text": [
      "\r"
     ]
    },
    {
     "name": "stdout",
     "output_type": "stream",
     "text": [
      "\r",
      "|#                Optimizing graph: ordering signals                  | 0:00:00"
     ]
    },
    {
     "name": "stdout",
     "output_type": "stream",
     "text": [
      "\r",
      "Optimizing graph: ordering signals finished in 0:00:00                         "
     ]
    },
    {
     "name": "stdout",
     "output_type": "stream",
     "text": [
      "\r"
     ]
    },
    {
     "name": "stdout",
     "output_type": "stream",
     "text": [
      "\r",
      "|#                Optimizing graph: creating signals                  | 0:00:00"
     ]
    },
    {
     "name": "stdout",
     "output_type": "stream",
     "text": [
      "\r",
      "Optimizing graph: creating signals finished in 0:00:00                         "
     ]
    },
    {
     "name": "stdout",
     "output_type": "stream",
     "text": [
      "\r"
     ]
    },
    {
     "name": "stdout",
     "output_type": "stream",
     "text": [
      "\r",
      "Optimization finished in 0:00:00                                               "
     ]
    },
    {
     "name": "stdout",
     "output_type": "stream",
     "text": [
      "\n"
     ]
    },
    {
     "name": "stdout",
     "output_type": "stream",
     "text": [
      "\r",
      "|#                        Constructing graph                          | 0:00:00"
     ]
    },
    {
     "name": "stdout",
     "output_type": "stream",
     "text": [
      "\r",
      "|           Constructing graph: pre-build stage (0%)           | ETA:  --:--:--"
     ]
    },
    {
     "name": "stdout",
     "output_type": "stream",
     "text": [
      "\r",
      "Constructing graph: pre-build stage finished in 0:00:00                        "
     ]
    },
    {
     "name": "stdout",
     "output_type": "stream",
     "text": [
      "\r"
     ]
    },
    {
     "name": "stdout",
     "output_type": "stream",
     "text": [
      "\r",
      "|             Constructing graph: build stage (0%)             | ETA:  --:--:--"
     ]
    },
    {
     "name": "stdout",
     "output_type": "stream",
     "text": [
      "\r",
      "|              Constructing graph: build stage (1%)              | ETA: 0:00:06"
     ]
    },
    {
     "name": "stdout",
     "output_type": "stream",
     "text": [
      "\r",
      "|#             Constructing graph: build stage (2%)              | ETA: 0:00:05"
     ]
    },
    {
     "name": "stdout",
     "output_type": "stream",
     "text": [
      "\r",
      "|###           Constructing graph: build stage (4%)              | ETA: 0:00:03"
     ]
    },
    {
     "name": "stdout",
     "output_type": "stream",
     "text": [
      "\r",
      "|####          Constructing graph: build stage (7%)              | ETA: 0:00:03"
     ]
    },
    {
     "name": "stdout",
     "output_type": "stream",
     "text": [
      "\r",
      "|########      Constructing graph: build stage (12%)             | ETA: 0:00:02"
     ]
    },
    {
     "name": "stdout",
     "output_type": "stream",
     "text": [
      "\r",
      "|#########     Constructing graph: build stage (15%)             | ETA: 0:00:01"
     ]
    },
    {
     "name": "stdout",
     "output_type": "stream",
     "text": [
      "\r",
      "|############  Constructing graph: build stage (19%)             | ETA: 0:00:01"
     ]
    },
    {
     "name": "stdout",
     "output_type": "stream",
     "text": [
      "\r",
      "|##############Constructing graph: build stage (25%)             | ETA: 0:00:01"
     ]
    },
    {
     "name": "stdout",
     "output_type": "stream",
     "text": [
      "\r",
      "|##############Constructing graph: build stage (27%)             | ETA: 0:00:01"
     ]
    },
    {
     "name": "stdout",
     "output_type": "stream",
     "text": [
      "\r",
      "|##############Constructing graph: build stage (31%)             | ETA: 0:00:01"
     ]
    },
    {
     "name": "stdout",
     "output_type": "stream",
     "text": [
      "\r",
      "|##############Constructing graph: build stage (36%)             | ETA: 0:00:01"
     ]
    },
    {
     "name": "stdout",
     "output_type": "stream",
     "text": [
      "\r",
      "|##############Constructing graph: build stage (40%)             | ETA: 0:00:00"
     ]
    },
    {
     "name": "stdout",
     "output_type": "stream",
     "text": [
      "\r",
      "|##############Constructing graph: build stage (44%)             | ETA: 0:00:00"
     ]
    },
    {
     "name": "stdout",
     "output_type": "stream",
     "text": [
      "\r",
      "|##############Constructing graph: build stage (48%)             | ETA: 0:00:00"
     ]
    },
    {
     "name": "stdout",
     "output_type": "stream",
     "text": [
      "\r",
      "|##############Constructing graph: build stage (52%)             | ETA: 0:00:00"
     ]
    },
    {
     "name": "stdout",
     "output_type": "stream",
     "text": [
      "\r",
      "|##############Constructing graph: build stage (56%)             | ETA: 0:00:00"
     ]
    },
    {
     "name": "stdout",
     "output_type": "stream",
     "text": [
      "\r",
      "|##############Constructing graph: build stage (61%)             | ETA: 0:00:00"
     ]
    },
    {
     "name": "stdout",
     "output_type": "stream",
     "text": [
      "\r",
      "|##############Constructing graph: build stage (65%)             | ETA: 0:00:00"
     ]
    },
    {
     "name": "stdout",
     "output_type": "stream",
     "text": [
      "\r",
      "|##############Constructing graph: build stage (68%)             | ETA: 0:00:00"
     ]
    },
    {
     "name": "stdout",
     "output_type": "stream",
     "text": [
      "\r",
      "|##############Constructing graph: build stage (73%)             | ETA: 0:00:00"
     ]
    },
    {
     "name": "stdout",
     "output_type": "stream",
     "text": [
      "\r",
      "|##############Constructing graph: build stage (76%)             | ETA: 0:00:00"
     ]
    },
    {
     "name": "stdout",
     "output_type": "stream",
     "text": [
      "\r",
      "|##############Constructing graph: build stage (81%)#            | ETA: 0:00:00"
     ]
    },
    {
     "name": "stdout",
     "output_type": "stream",
     "text": [
      "\r",
      "|##############Constructing graph: build stage (85%)###          | ETA: 0:00:00"
     ]
    },
    {
     "name": "stdout",
     "output_type": "stream",
     "text": [
      "\r",
      "|##############Constructing graph: build stage (89%)######       | ETA: 0:00:00"
     ]
    },
    {
     "name": "stdout",
     "output_type": "stream",
     "text": [
      "\r",
      "|##############Constructing graph: build stage (93%)#########    | ETA: 0:00:00"
     ]
    },
    {
     "name": "stdout",
     "output_type": "stream",
     "text": [
      "\r",
      "|##############Constructing graph: build stage (98%)###########  | ETA: 0:00:00"
     ]
    },
    {
     "name": "stdout",
     "output_type": "stream",
     "text": [
      "\r",
      "|############Constructing graph: build stage (100%)############| ETA:  00:00:00"
     ]
    },
    {
     "name": "stdout",
     "output_type": "stream",
     "text": [
      "\r",
      "|               #         Constructing graph                          | 0:00:01\r",
      "Constructing graph: build stage finished in 0:00:01                            "
     ]
    },
    {
     "name": "stdout",
     "output_type": "stream",
     "text": [
      "\r"
     ]
    },
    {
     "name": "stdout",
     "output_type": "stream",
     "text": [
      "\r",
      "Construction finished in 0:00:01                                               "
     ]
    },
    {
     "name": "stdout",
     "output_type": "stream",
     "text": [
      "\n"
     ]
    },
    {
     "name": "stdout",
     "output_type": "stream",
     "text": [
      "\r",
      "|           Constructing graph: pre-build stage (0%)           | ETA:  --:--:--"
     ]
    },
    {
     "name": "stdout",
     "output_type": "stream",
     "text": [
      "\r",
      "Constructing graph: pre-build stage finished in 0:00:00                        "
     ]
    },
    {
     "name": "stdout",
     "output_type": "stream",
     "text": [
      "\r"
     ]
    },
    {
     "name": "stdout",
     "output_type": "stream",
     "text": [
      "\r",
      "|             Constructing graph: build stage (0%)             | ETA:  --:--:--"
     ]
    },
    {
     "name": "stdout",
     "output_type": "stream",
     "text": [
      "\r",
      "|              Constructing graph: build stage (1%)              | ETA: 0:00:06"
     ]
    },
    {
     "name": "stdout",
     "output_type": "stream",
     "text": [
      "\r",
      "|#             Constructing graph: build stage (2%)              | ETA: 0:00:04"
     ]
    },
    {
     "name": "stdout",
     "output_type": "stream",
     "text": [
      "\r",
      "|###           Constructing graph: build stage (4%)              | ETA: 0:00:03"
     ]
    },
    {
     "name": "stdout",
     "output_type": "stream",
     "text": [
      "\r",
      "|#####         Constructing graph: build stage (8%)              | ETA: 0:00:02"
     ]
    },
    {
     "name": "stdout",
     "output_type": "stream",
     "text": [
      "\r",
      "|########      Constructing graph: build stage (12%)             | ETA: 0:00:02"
     ]
    },
    {
     "name": "stdout",
     "output_type": "stream",
     "text": [
      "\r",
      "|##########    Constructing graph: build stage (15%)             | ETA: 0:00:01"
     ]
    },
    {
     "name": "stdout",
     "output_type": "stream",
     "text": [
      "\r",
      "|############  Constructing graph: build stage (19%)             | ETA: 0:00:01"
     ]
    },
    {
     "name": "stdout",
     "output_type": "stream",
     "text": [
      "\r",
      "|##############Constructing graph: build stage (25%)             | ETA: 0:00:01"
     ]
    },
    {
     "name": "stdout",
     "output_type": "stream",
     "text": [
      "\r",
      "|##############Constructing graph: build stage (27%)             | ETA: 0:00:01"
     ]
    },
    {
     "name": "stdout",
     "output_type": "stream",
     "text": [
      "\r",
      "|##############Constructing graph: build stage (31%)             | ETA: 0:00:01"
     ]
    },
    {
     "name": "stdout",
     "output_type": "stream",
     "text": [
      "\r",
      "|##############Constructing graph: build stage (36%)             | ETA: 0:00:01"
     ]
    },
    {
     "name": "stdout",
     "output_type": "stream",
     "text": [
      "\r",
      "|##############Constructing graph: build stage (39%)             | ETA: 0:00:01"
     ]
    },
    {
     "name": "stdout",
     "output_type": "stream",
     "text": [
      "\r",
      "|##############Constructing graph: build stage (43%)             | ETA: 0:00:00"
     ]
    },
    {
     "name": "stdout",
     "output_type": "stream",
     "text": [
      "\r",
      "|##############Constructing graph: build stage (47%)             | ETA: 0:00:00"
     ]
    },
    {
     "name": "stdout",
     "output_type": "stream",
     "text": [
      "\r",
      "|##############Constructing graph: build stage (51%)             | ETA: 0:00:00"
     ]
    },
    {
     "name": "stdout",
     "output_type": "stream",
     "text": [
      "\r",
      "|##############Constructing graph: build stage (56%)             | ETA: 0:00:00"
     ]
    },
    {
     "name": "stdout",
     "output_type": "stream",
     "text": [
      "\r",
      "|##############Constructing graph: build stage (58%)             | ETA: 0:00:00"
     ]
    },
    {
     "name": "stdout",
     "output_type": "stream",
     "text": [
      "\r",
      "|##############Constructing graph: build stage (62%)             | ETA: 0:00:00"
     ]
    },
    {
     "name": "stdout",
     "output_type": "stream",
     "text": [
      "\r",
      "|##############Constructing graph: build stage (65%)             | ETA: 0:00:00"
     ]
    },
    {
     "name": "stdout",
     "output_type": "stream",
     "text": [
      "\r",
      "|##############Constructing graph: build stage (68%)             | ETA: 0:00:00"
     ]
    },
    {
     "name": "stdout",
     "output_type": "stream",
     "text": [
      "\r",
      "|##############Constructing graph: build stage (73%)             | ETA: 0:00:00"
     ]
    },
    {
     "name": "stdout",
     "output_type": "stream",
     "text": [
      "\r",
      "|##############Constructing graph: build stage (76%)             | ETA: 0:00:00"
     ]
    },
    {
     "name": "stdout",
     "output_type": "stream",
     "text": [
      "\r",
      "|##############Constructing graph: build stage (81%)#            | ETA: 0:00:00"
     ]
    },
    {
     "name": "stdout",
     "output_type": "stream",
     "text": [
      "\r",
      "|##############Constructing graph: build stage (84%)##           | ETA: 0:00:00"
     ]
    },
    {
     "name": "stdout",
     "output_type": "stream",
     "text": [
      "\r",
      "|##############Constructing graph: build stage (88%)#####        | ETA: 0:00:00"
     ]
    },
    {
     "name": "stdout",
     "output_type": "stream",
     "text": [
      "\r",
      "|##############Constructing graph: build stage (92%)########     | ETA: 0:00:00"
     ]
    },
    {
     "name": "stdout",
     "output_type": "stream",
     "text": [
      "\r",
      "|##############Constructing graph: build stage (95%)##########   | ETA: 0:00:00"
     ]
    },
    {
     "name": "stdout",
     "output_type": "stream",
     "text": [
      "\r",
      "|############Constructing graph: build stage (100%)############| ETA:  00:00:00"
     ]
    },
    {
     "name": "stdout",
     "output_type": "stream",
     "text": [
      "\r",
      "|############Constructing graph: build stage (100%)############| ETA:  00:00:00"
     ]
    },
    {
     "name": "stdout",
     "output_type": "stream",
     "text": [
      "\r",
      "|############Constructing graph: build stage (100%)############| ETA:  00:00:00"
     ]
    },
    {
     "name": "stdout",
     "output_type": "stream",
     "text": [
      "\r",
      "|############Constructing graph: build stage (100%)############| ETA:  00:00:00"
     ]
    },
    {
     "name": "stdout",
     "output_type": "stream",
     "text": [
      "\r",
      "Constructing graph: build stage finished in 0:00:01                            "
     ]
    },
    {
     "name": "stdout",
     "output_type": "stream",
     "text": [
      "\r"
     ]
    },
    {
     "name": "stdout",
     "output_type": "stream",
     "text": [
      "\r",
      "|           Constructing graph: pre-build stage (0%)           | ETA:  --:--:--"
     ]
    },
    {
     "name": "stdout",
     "output_type": "stream",
     "text": [
      "\r",
      "Constructing graph: pre-build stage finished in 0:00:00                        "
     ]
    },
    {
     "name": "stdout",
     "output_type": "stream",
     "text": [
      "\r"
     ]
    },
    {
     "name": "stdout",
     "output_type": "stream",
     "text": [
      "\r",
      "|             Constructing graph: build stage (0%)             | ETA:  --:--:--"
     ]
    },
    {
     "name": "stdout",
     "output_type": "stream",
     "text": [
      "\r",
      "|              Constructing graph: build stage (1%)              | ETA: 0:00:06"
     ]
    },
    {
     "name": "stdout",
     "output_type": "stream",
     "text": [
      "\r",
      "|#             Constructing graph: build stage (2%)              | ETA: 0:00:04"
     ]
    },
    {
     "name": "stdout",
     "output_type": "stream",
     "text": [
      "\r",
      "|###           Constructing graph: build stage (5%)              | ETA: 0:00:03"
     ]
    },
    {
     "name": "stdout",
     "output_type": "stream",
     "text": [
      "\r",
      "|#####         Constructing graph: build stage (8%)              | ETA: 0:00:02"
     ]
    },
    {
     "name": "stdout",
     "output_type": "stream",
     "text": [
      "\r",
      "|########      Constructing graph: build stage (12%)             | ETA: 0:00:02"
     ]
    },
    {
     "name": "stdout",
     "output_type": "stream",
     "text": [
      "\r",
      "|#########     Constructing graph: build stage (15%)             | ETA: 0:00:01"
     ]
    },
    {
     "name": "stdout",
     "output_type": "stream",
     "text": [
      "\r",
      "|############  Constructing graph: build stage (19%)             | ETA: 0:00:01"
     ]
    },
    {
     "name": "stdout",
     "output_type": "stream",
     "text": [
      "\r",
      "|##############Constructing graph: build stage (23%)             | ETA: 0:00:01"
     ]
    },
    {
     "name": "stdout",
     "output_type": "stream",
     "text": [
      "\r",
      "|##############Constructing graph: build stage (26%)             | ETA: 0:00:01"
     ]
    },
    {
     "name": "stdout",
     "output_type": "stream",
     "text": [
      "\r",
      "|##############Constructing graph: build stage (31%)             | ETA: 0:00:01"
     ]
    },
    {
     "name": "stdout",
     "output_type": "stream",
     "text": [
      "\r",
      "|##############Constructing graph: build stage (34%)             | ETA: 0:00:01"
     ]
    },
    {
     "name": "stdout",
     "output_type": "stream",
     "text": [
      "\r",
      "|##############Constructing graph: build stage (38%)             | ETA: 0:00:01"
     ]
    },
    {
     "name": "stdout",
     "output_type": "stream",
     "text": [
      "\r",
      "|##############Constructing graph: build stage (43%)             | ETA: 0:00:00"
     ]
    },
    {
     "name": "stdout",
     "output_type": "stream",
     "text": [
      "\r",
      "|##############Constructing graph: build stage (46%)             | ETA: 0:00:00"
     ]
    },
    {
     "name": "stdout",
     "output_type": "stream",
     "text": [
      "\r",
      "|##############Constructing graph: build stage (50%)             | ETA: 0:00:00"
     ]
    },
    {
     "name": "stdout",
     "output_type": "stream",
     "text": [
      "\r",
      "|##############Constructing graph: build stage (54%)             | ETA: 0:00:00"
     ]
    },
    {
     "name": "stdout",
     "output_type": "stream",
     "text": [
      "\r",
      "|##############Constructing graph: build stage (57%)             | ETA: 0:00:00"
     ]
    },
    {
     "name": "stdout",
     "output_type": "stream",
     "text": [
      "\r",
      "|##############Constructing graph: build stage (62%)             | ETA: 0:00:00"
     ]
    },
    {
     "name": "stdout",
     "output_type": "stream",
     "text": [
      "\r",
      "|##############Constructing graph: build stage (65%)             | ETA: 0:00:00"
     ]
    },
    {
     "name": "stdout",
     "output_type": "stream",
     "text": [
      "\r",
      "|##############Constructing graph: build stage (68%)             | ETA: 0:00:00"
     ]
    },
    {
     "name": "stdout",
     "output_type": "stream",
     "text": [
      "\r",
      "|##############Constructing graph: build stage (73%)             | ETA: 0:00:00"
     ]
    },
    {
     "name": "stdout",
     "output_type": "stream",
     "text": [
      "\r",
      "|##############Constructing graph: build stage (76%)             | ETA: 0:00:00"
     ]
    },
    {
     "name": "stdout",
     "output_type": "stream",
     "text": [
      "\r",
      "|##############Constructing graph: build stage (81%)#            | ETA: 0:00:00"
     ]
    },
    {
     "name": "stdout",
     "output_type": "stream",
     "text": [
      "\r",
      "|##############Constructing graph: build stage (84%)###          | ETA: 0:00:00"
     ]
    },
    {
     "name": "stdout",
     "output_type": "stream",
     "text": [
      "\r",
      "|##############Constructing graph: build stage (88%)#####        | ETA: 0:00:00"
     ]
    },
    {
     "name": "stdout",
     "output_type": "stream",
     "text": [
      "\r",
      "|##############Constructing graph: build stage (93%)#########    | ETA: 0:00:00"
     ]
    },
    {
     "name": "stdout",
     "output_type": "stream",
     "text": [
      "\r",
      "|##############Constructing graph: build stage (96%)##########   | ETA: 0:00:00"
     ]
    },
    {
     "name": "stdout",
     "output_type": "stream",
     "text": [
      "\r",
      "|############Constructing graph: build stage (100%)############| ETA:  00:00:00"
     ]
    },
    {
     "name": "stdout",
     "output_type": "stream",
     "text": [
      "\r",
      "|############Constructing graph: build stage (100%)############| ETA:  00:00:00"
     ]
    },
    {
     "name": "stdout",
     "output_type": "stream",
     "text": [
      "\r",
      "|############Constructing graph: build stage (100%)############| ETA:  00:00:00"
     ]
    },
    {
     "name": "stdout",
     "output_type": "stream",
     "text": [
      "\r",
      "|############Constructing graph: build stage (100%)############| ETA:  00:00:00"
     ]
    },
    {
     "name": "stdout",
     "output_type": "stream",
     "text": [
      "\r",
      "Constructing graph: build stage finished in 0:00:01                            "
     ]
    },
    {
     "name": "stdout",
     "output_type": "stream",
     "text": [
      "\r"
     ]
    },
    {
     "name": "stdout",
     "output_type": "stream",
     "text": [
      "Initial test accuracy: 7.98%\n"
     ]
    },
    {
     "name": "stdout",
     "output_type": "stream",
     "text": [
      "Final test accuracy: 96.15\n"
     ]
    }
   ],
   "source": [
    "do_training = False\n",
    "\n",
    "with nengo_dl.Simulator(net, minibatch_size=100, unroll_simulation=16) as sim:\n",
    "    sim.compile(\n",
    "        loss=tf.losses.SparseCategoricalCrossentropy(from_logits=True),\n",
    "        optimizer=tf.optimizers.Adam(),\n",
    "        metrics=[\"accuracy\"],\n",
    "    )\n",
    "\n",
    "    test_acc = sim.evaluate(test_images, test_labels, verbose=0)[\"probe_accuracy\"]\n",
    "    print(f\"Initial test accuracy: {test_acc * 100:.2f}%\")\n",
    "\n",
    "    if do_training:\n",
    "        sim.fit(train_images, train_labels, epochs=10)\n",
    "        sim.save_params(\"./lmu_params\")\n",
    "    else:\n",
    "        urlretrieve(\n",
    "            \"https://drive.google.com/uc?export=download&\"\n",
    "            \"id=1UbVJ4u6eQkyxIU9F7yScElAz2p2Ah2sP\",\n",
    "            \"lmu_params.npz\",\n",
    "        )\n",
    "        sim.load_params(\"./lmu_params\")\n",
    "\n",
    "    test_acc = sim.evaluate(test_images, test_labels, verbose=0)[\"probe_accuracy\"]\n",
    "    print(f\"Final test accuracy: {test_acc * 100:.2f}\")"
   ]
  },
  {
   "cell_type": "markdown",
   "metadata": {},
   "source": [
    "We can see that the network is achieving >96% accuracy, which is state of the art\n",
    "performance on psMNIST."
   ]
  }
 ],
 "metadata": {
  "language_info": {
   "codemirror_mode": {
    "name": "ipython",
    "version": 3
   },
   "file_extension": ".py",
   "mimetype": "text/x-python",
   "name": "python",
   "nbconvert_exporter": "python",
   "pygments_lexer": "ipython3",
   "version": "3.9.15"
  }
 },
 "nbformat": 4,
 "nbformat_minor": 2
}
